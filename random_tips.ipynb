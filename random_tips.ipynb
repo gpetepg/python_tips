{
 "cells": [
  {
   "cell_type": "markdown",
   "metadata": {},
   "source": [
    "# Random Tips\n",
    "\n",
    "Random tips and useful things I've come across that did not fit the other notebooks."
   ]
  },
  {
   "cell_type": "markdown",
   "metadata": {},
   "source": [
    "### Iterating through an array excluding the iteration you are on"
   ]
  },
  {
   "cell_type": "code",
   "execution_count": 1,
   "metadata": {},
   "outputs": [
    {
     "name": "stdout",
     "output_type": "stream",
     "text": [
      "[2, 3, 4, 5, 6]\n",
      "[1, 3, 4, 5, 6]\n",
      "[1, 2, 4, 5, 6]\n",
      "[1, 2, 3, 5, 6]\n",
      "[1, 2, 3, 4, 6]\n",
      "[1, 2, 3, 4, 5]\n"
     ]
    }
   ],
   "source": [
    "# Iterating through an array excluding the iteration you are on.\n",
    "\n",
    "arr = [1,2,3,4,5,6]\n",
    "\n",
    "for i in range(len(arr)):\n",
    "    print(arr[:i] + arr[i+1:])"
   ]
  },
  {
   "cell_type": "markdown",
   "metadata": {},
   "source": [
    "### Dictionary.get()"
   ]
  },
  {
   "cell_type": "code",
   "execution_count": 2,
   "metadata": {},
   "outputs": [
    {
     "data": {
      "text/plain": [
       "{1: 2, 2: 1, 3: 1, 4: 2, 6: 3, 7: 2, 8: 1, 9: 5}"
      ]
     },
     "execution_count": 2,
     "metadata": {},
     "output_type": "execute_result"
    }
   ],
   "source": [
    "# Fast and effient way to count elements in a list.\n",
    "# This is similar to using defaultdict()\n",
    "\n",
    "elements = {}\n",
    "\n",
    "arr = [1,1,2,3,4,4,6,6,6,7,7,8,9,9,9,9,9]\n",
    "\n",
    "for i in arr:\n",
    "    elements[i] = elements.get(i, 0) + 1 # .get() checks for a key, if the key isn't there create one with a default value\n",
    "    \n",
    "elements"
   ]
  },
  {
   "cell_type": "markdown",
   "metadata": {},
   "source": [
    "### Quickly reverse a string or an array"
   ]
  },
  {
   "cell_type": "code",
   "execution_count": 3,
   "metadata": {},
   "outputs": [
    {
     "name": "stdout",
     "output_type": "stream",
     "text": [
      "god si siht olleH\n",
      "[34, 45, 67, 12]\n"
     ]
    }
   ],
   "source": [
    "string = \"Hello this is dog\"\n",
    "print(string[::-1])\n",
    "\n",
    "array = [12, 67, 45, 34]\n",
    "print(array[::-1])"
   ]
  },
  {
   "cell_type": "markdown",
   "metadata": {},
   "source": [
    "### popleft(), appendleft() without deque"
   ]
  },
  {
   "cell_type": "code",
   "execution_count": 4,
   "metadata": {},
   "outputs": [
    {
     "name": "stdout",
     "output_type": "stream",
     "text": [
      "1\n",
      "[5, 2, 3, 4]\n"
     ]
    }
   ],
   "source": [
    "# deque operations are faster, but these require no imports\n",
    "\n",
    "arr = [1,2,3,4]\n",
    "\n",
    "print(arr.pop(0)) # Should be 1\n",
    "\n",
    "arr.insert(0, 5) # Should be [5, 2, 3, 4] we insert at the 0th position\n",
    "\n",
    "print(arr)"
   ]
  },
  {
   "cell_type": "markdown",
   "metadata": {},
   "source": [
    "### Sort by two criteria"
   ]
  },
  {
   "cell_type": "code",
   "execution_count": 5,
   "metadata": {},
   "outputs": [
    {
     "name": "stdout",
     "output_type": "stream",
     "text": [
      "[[1, 3], [1, 2], [2, 4], [2, 3], [3, 4]]\n",
      "[[1, 2], [1, 3], [2, 3], [2, 4], [3, 4]]\n"
     ]
    }
   ],
   "source": [
    "lst = [[1,2], [2,3],  [3,4], [1,3], [2,4]]\n",
    "\n",
    "#desc\n",
    "arr1 = sorted(lst, key=lambda x: (x[0], -x[1]))\n",
    "\n",
    "# ascending\n",
    "arr2 = sorted(lst, key=lambda x: (x[0], x[1]))\n",
    "\n",
    "lst = [[1,2], [2,3],  [3,4], [1,3], [2,4]]\n",
    "\n",
    "print(arr1)\n",
    "print(arr2)"
   ]
  }
 ],
 "metadata": {
  "kernelspec": {
   "display_name": "Python 3",
   "language": "python",
   "name": "python3"
  },
  "language_info": {
   "codemirror_mode": {
    "name": "ipython",
    "version": 3
   },
   "file_extension": ".py",
   "mimetype": "text/x-python",
   "name": "python",
   "nbconvert_exporter": "python",
   "pygments_lexer": "ipython3",
   "version": "3.8.8"
  }
 },
 "nbformat": 4,
 "nbformat_minor": 2
}
